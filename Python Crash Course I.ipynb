{
 "cells": [
  {
   "cell_type": "markdown",
   "metadata": {},
   "source": [
    "# Python Crash Course I"
   ]
  },
  {
   "cell_type": "markdown",
   "metadata": {},
   "source": [
    "This material was created written by Arman Seyed-Ahmadi, Jupyter notebooks prepared by Danie Benetton.\n",
    "\n",
    "Project financially supported by the University of British Columbia, Department of Chemical and Biological Engineering (CBHE).\n",
    "\n",
    "July 2020"
   ]
  },
  {
   "cell_type": "markdown",
   "metadata": {},
   "source": [
    "**Preferred method:**\n",
    "\n",
    "To use this notebook, make sure Anaconda is installed [Link to Download](https://www.anaconda.com/products/individual)\n",
    "\n",
    "This tutorial is best run in **JupyterLab.** [JupyterLab Introduction Video](https://www.youtube.com/watch?v=A5YyoCKxEOU). \n",
    "\n",
    "**Alternative method:**\n",
    "\n",
    "UBC students and professors can also access this notebook through [Syzygy](https://ubc.syzygy.ca/). Log in with your CWL, upload this notebook to your files, and run the notebook.\n",
    "\n",
    "## Topics covered in this crash course:\n",
    "- The Python language and Jupyter Lab\n",
    "- Basic math operations\n",
    "- Variables and data types\n",
    "- Basic output with formatted strings\n",
    "- Lists and tuples, as well as indexing and slicing them\n",
    "- The Numpy package and how to works with arrays"
   ]
  },
  {
   "cell_type": "markdown",
   "metadata": {},
   "source": [
    "## Matplotlib settings"
   ]
  },
  {
   "cell_type": "code",
   "execution_count": 1,
   "metadata": {},
   "outputs": [],
   "source": [
    "%matplotlib inline\n",
    "import matplotlib as mpl\n",
    "mpl.rcParams.update({'mathtext.fontset': 'cm'})\n",
    "mpl.rcParams.update({'axes.labelsize': 22})\n",
    "mpl.rcParams.update({'axes.titlesize': 16})\n",
    "mpl.rcParams.update({'axes.linewidth': 0.5})\n",
    "mpl.rcParams.update({'xtick.labelsize': 10})\n",
    "mpl.rcParams.update({'ytick.labelsize': 10})\n",
    "%config InlineBackend.figure_formats = ['svg']"
   ]
  },
  {
   "cell_type": "markdown",
   "metadata": {},
   "source": [
    "## The Basics - Hello World!\n",
    "\n",
    "The print function will print text to the output.\n",
    "**To run the code**, select the cell below and either hit the Run button or use <kbd>Ctrl</kbd>+<kbd>Enter</kbd> (run cell) or <kbd>Shift</kbd>+<kbd>Enter</kbd> (run and advance):\n"
   ]
  },
  {
   "cell_type": "code",
   "execution_count": 2,
   "metadata": {},
   "outputs": [
    {
     "name": "stdout",
     "output_type": "stream",
     "text": [
      "Hello World!\n"
     ]
    }
   ],
   "source": [
    "print('Hello World!')"
   ]
  },
  {
   "cell_type": "markdown",
   "metadata": {},
   "source": [
    "You can edit the text inside the single quotes to change the text output.\n",
    "To get the new results in the output, you have to run the cell again."
   ]
  },
  {
   "cell_type": "markdown",
   "metadata": {},
   "source": [
    "## Aside about JupyterLab format\n",
    "\n",
    "The Jupyter Notebook format uses containers called *cells* to hold content.\n",
    "\n",
    "There are two main types:\n",
    "- *Markdown* for text\n",
    "- *Code* for executable script"
   ]
  },
  {
   "cell_type": "markdown",
   "metadata": {},
   "source": [
    "This is a Markdown cell. To see its content and how formatting is applied, double click on the cell. It contains text that can be formatted to be:\n",
    "\n",
    "# Header1\n",
    "## Header2\n",
    "...\n",
    "\n",
    "**bold**\n",
    "\n",
    "*italics*\n",
    "\n",
    "> Blockquotes\n",
    "\n",
    "The content can also include links, images, tables, and equations. To learn more, please visit this [link](https://jupyter-notebook.readthedocs.io/en/stable/examples/Notebook/Working%20With%20Markdown%20Cells.html).\n",
    "\n",
    "*If you have any formatting questions, don't hesitate to search the web. The chances of finding your answer is close to 100%, if not more!*"
   ]
  },
  {
   "cell_type": "code",
   "execution_count": 3,
   "metadata": {},
   "outputs": [],
   "source": [
    "# This is a Code cell\n",
    "# Hash marks are used to indicate comments so the line will not be executed"
   ]
  },
  {
   "cell_type": "markdown",
   "metadata": {},
   "source": [
    "Each Code cell has empty square brackets [  ]: to the left of the cell before it is first run.\n",
    "After you run the code in a cell, the brackets will be filled with a number indicating the order in which cells have been run. This helps to keep track of order when running multiple cells."
   ]
  },
  {
   "cell_type": "markdown",
   "metadata": {},
   "source": [
    "## Numbers and Math\n",
    "\n",
    "The *IPython console* is essentially an advanced calculator. \n",
    "\n",
    "Operations such as `+` (addition), `-` (subtraction), `/` (division), `*` (multiplication) and `**` (exponentiation) can be done right away in the console.\n",
    "\n",
    "The order of operations is **PE(M&D)(A&S)** = *Parentheses, Exponentiation, Multiplication and Division, Addition and Subtraction.*"
   ]
  },
  {
   "cell_type": "code",
   "execution_count": 4,
   "metadata": {},
   "outputs": [
    {
     "data": {
      "text/plain": [
       "15"
      ]
     },
     "execution_count": 4,
     "metadata": {},
     "output_type": "execute_result"
    }
   ],
   "source": [
    "5+10"
   ]
  },
  {
   "cell_type": "code",
   "execution_count": 5,
   "metadata": {},
   "outputs": [
    {
     "data": {
      "text/plain": [
       "4"
      ]
     },
     "execution_count": 5,
     "metadata": {},
     "output_type": "execute_result"
    }
   ],
   "source": [
    "(1+1)**2"
   ]
  },
  {
   "cell_type": "markdown",
   "metadata": {},
   "source": [
    "The `%` sign gives you the remainder of the division of two numbers\n",
    "> e.g. a%b gives you the remainder of a/b.\n",
    "\n",
    "We can also compare two values with `==`,`!=`,`<`,`>`,`<=`,`>=`. The result of such operations is either *True* or *False*."
   ]
  },
  {
   "cell_type": "code",
   "execution_count": 6,
   "metadata": {},
   "outputs": [
    {
     "data": {
      "text/plain": [
       "1"
      ]
     },
     "execution_count": 6,
     "metadata": {},
     "output_type": "execute_result"
    }
   ],
   "source": [
    "# What is the remainder of 5/2?\n",
    "# Run this cell to see the result! You should get 1!\n",
    "5%2"
   ]
  },
  {
   "cell_type": "code",
   "execution_count": 7,
   "metadata": {},
   "outputs": [
    {
     "data": {
      "text/plain": [
       "True"
      ]
     },
     "execution_count": 7,
     "metadata": {},
     "output_type": "execute_result"
    }
   ],
   "source": [
    "# Is 7.1 greater or equal to 6?\n",
    "# Run this cell to see the result! You should get True!\n",
    "7.1>=6"
   ]
  },
  {
   "cell_type": "markdown",
   "metadata": {},
   "source": [
    "> Note: Python is case sensitive. When writing code, \"true\" is different than \"True\"."
   ]
  },
  {
   "cell_type": "markdown",
   "metadata": {},
   "source": [
    "## Variables\n",
    "\n",
    "You can assign values to variables using the assignment operator `=`\n"
   ]
  },
  {
   "cell_type": "code",
   "execution_count": 8,
   "metadata": {},
   "outputs": [
    {
     "name": "stdout",
     "output_type": "stream",
     "text": [
      "2.5\n"
     ]
    }
   ],
   "source": [
    "x = 2.5\n",
    "print(x)"
   ]
  },
  {
   "cell_type": "markdown",
   "metadata": {},
   "source": [
    "You can store many types of data in variables including *numbers, characters and lists of numbers and characters*"
   ]
  },
  {
   "cell_type": "code",
   "execution_count": 9,
   "metadata": {},
   "outputs": [
    {
     "name": "stdout",
     "output_type": "stream",
     "text": [
      "Student\n"
     ]
    }
   ],
   "source": [
    "my_name = 'Student'\n",
    "print(my_name)"
   ]
  },
  {
   "cell_type": "markdown",
   "metadata": {},
   "source": [
    "Note that printing a variable is different than printing a string. **This is a common mistake** to be aware of when performing operations with strings"
   ]
  },
  {
   "cell_type": "code",
   "execution_count": 10,
   "metadata": {},
   "outputs": [
    {
     "name": "stdout",
     "output_type": "stream",
     "text": [
      "Student\n",
      "my_name\n"
     ]
    }
   ],
   "source": [
    "print(my_name)\n",
    "print('my_name')"
   ]
  },
  {
   "cell_type": "markdown",
   "metadata": {},
   "source": [
    "You can join strings by using the `+` sign"
   ]
  },
  {
   "cell_type": "code",
   "execution_count": 11,
   "metadata": {},
   "outputs": [
    {
     "name": "stdout",
     "output_type": "stream",
     "text": [
      "University of British Columbia\n"
     ]
    }
   ],
   "source": [
    "uni_name = 'University ' + 'of ' + 'British Columbia'\n",
    "print(uni_name)"
   ]
  },
  {
   "cell_type": "markdown",
   "metadata": {},
   "source": [
    "### Variable naming rules:\n",
    "- The name of variables can contain **characters**, **numbers** and **underscores ( _ )**\n",
    "- Variable names CANNOT start with a number\n",
    "- Special characters are not allowed (#, %,!, ^, &, etc.) in naming variables\n",
    "- Variables names cannot be any of the **reserved Python keywords**, which can be found in the [documentation](https://www.tutorialspoint.com/What-are-Reserved-Keywords-in-Python)"
   ]
  },
  {
   "cell_type": "markdown",
   "metadata": {},
   "source": [
    "## Variable or Data Types\n",
    "\n",
    "- **Booleans**: True or False\n",
    "- **Numbers**:\n",
    " - Integers (1, 108, -12)\n",
    " - Floating-point numbers (0.2, 3.14)\n",
    " - Complex numbers (1+3j, 3.5+12j)\n",
    "- **Strings**: Any type of text\n",
    " - 'John', 'Python', 'Morning'\n",
    " \n",
    "We can get see the data type of any variable or data by using the `type( )` function in Python \n",
    "\n",
    "Let's try this with a couple of examples - you can replace the argument of the function to try out different data types"
   ]
  },
  {
   "cell_type": "code",
   "execution_count": 12,
   "metadata": {},
   "outputs": [
    {
     "data": {
      "text/plain": [
       "bool"
      ]
     },
     "execution_count": 12,
     "metadata": {},
     "output_type": "execute_result"
    }
   ],
   "source": [
    "type(True)"
   ]
  },
  {
   "cell_type": "code",
   "execution_count": 13,
   "metadata": {},
   "outputs": [
    {
     "data": {
      "text/plain": [
       "str"
      ]
     },
     "execution_count": 13,
     "metadata": {},
     "output_type": "execute_result"
    }
   ],
   "source": [
    "type('Python')"
   ]
  },
  {
   "cell_type": "markdown",
   "metadata": {},
   "source": [
    "## Manipulating Text\n",
    "\n",
    "Looking back on the `uni_name` variable that was defined in the Variables section above, we can see that variables can be stored across cells\n",
    "> Hint: If running the cell below returns an error, remember that you must first assign a value to a variable before you can use it. Try running the cell where `uni_name` is defined"
   ]
  },
  {
   "cell_type": "code",
   "execution_count": 14,
   "metadata": {},
   "outputs": [
    {
     "name": "stdout",
     "output_type": "stream",
     "text": [
      "University of British Columbia\n"
     ]
    }
   ],
   "source": [
    "print(uni_name)"
   ]
  },
  {
   "cell_type": "markdown",
   "metadata": {},
   "source": [
    "We can manipulate the variable using tools called *Methods*\n",
    "\n",
    "To capitalize the entire string, we use the `upper()` method. Similarly, `lower()` is used to make the entire string lowercase."
   ]
  },
  {
   "cell_type": "code",
   "execution_count": 15,
   "metadata": {},
   "outputs": [
    {
     "data": {
      "text/plain": [
       "'UNIVERSITY OF BRITISH COLUMBIA'"
      ]
     },
     "execution_count": 15,
     "metadata": {},
     "output_type": "execute_result"
    }
   ],
   "source": [
    "uni_name.upper()"
   ]
  },
  {
   "cell_type": "code",
   "execution_count": 16,
   "metadata": {},
   "outputs": [
    {
     "data": {
      "text/plain": [
       "'university of british columbia'"
      ]
     },
     "execution_count": 16,
     "metadata": {},
     "output_type": "execute_result"
    }
   ],
   "source": [
    "uni_name.lower()"
   ]
  },
  {
   "cell_type": "markdown",
   "metadata": {},
   "source": [
    "Methods exist for other variable types as well. These will be covered more [later](#Methods). "
   ]
  },
  {
   "cell_type": "markdown",
   "metadata": {},
   "source": [
    "## It's Coding Time!\n",
    "\n",
    "A basic program takes some inputs, performs one or more operations, and generates output. \n",
    "\n",
    "Here is what we'll do for our first program:\n",
    "\n",
    "- Create two variables **a** and **b** and assign two numbers to them.\n",
    "- Using the `print()` function we learned before, display the phrase 'The sum of a and b is =', and in front of that, print **a+b**"
   ]
  },
  {
   "cell_type": "code",
   "execution_count": 17,
   "metadata": {},
   "outputs": [],
   "source": [
    "# Try it in this code cell\n",
    "\n",
    "\n"
   ]
  },
  {
   "cell_type": "markdown",
   "metadata": {},
   "source": [
    "The program probably looks something like this:\n",
    "> `a = 65.2`  \n",
    "`b = 72`  \n",
    "`print('The sum of a and b is =', a + b)`"
   ]
  },
  {
   "cell_type": "markdown",
   "metadata": {},
   "source": [
    "There are other ways to complete the same task as this program does.  \n",
    "Feel free to experiment with the little program above and see how many ways you can complete the same objective."
   ]
  },
  {
   "cell_type": "markdown",
   "metadata": {},
   "source": [
    "## Formatted Strings\n",
    "\n",
    "Try to display this in the output:\n",
    "> a = 65.2, b = 72, and the sum of a and b is 137.2\n",
    "\n",
    "You can do this by joining many pieces of text (and you still don’t have any control on how the numbers are shown)."
   ]
  },
  {
   "cell_type": "code",
   "execution_count": 18,
   "metadata": {},
   "outputs": [],
   "source": [
    "# Try it in this code cell\n",
    "\n",
    "\n"
   ]
  },
  {
   "cell_type": "markdown",
   "metadata": {},
   "source": [
    "*Formatted Strings* are an efficient way to embed variables (numbers or other strings) inside of a string.\n",
    "> The `f` before the quotation marks tells Python that this is a formatted string"
   ]
  },
  {
   "cell_type": "code",
   "execution_count": 19,
   "metadata": {},
   "outputs": [
    {
     "name": "stdout",
     "output_type": "stream",
     "text": [
      "a is equal to 65.2\n"
     ]
    }
   ],
   "source": [
    "a = 65.2\n",
    "print(f'a is equal to {a}')"
   ]
  },
  {
   "cell_type": "markdown",
   "metadata": {},
   "source": [
    "With formatted strings, not only you can easily place variables inside text, but also you can control the **format** of the shown variable.  \n",
    "  The pattern is: `f'{(variable_name):(width).(precision)(type)}'`"
   ]
  },
  {
   "cell_type": "code",
   "execution_count": 20,
   "metadata": {},
   "outputs": [
    {
     "name": "stdout",
     "output_type": "stream",
     "text": [
      "a is 3.1415926\n",
      "a is 3.142\n"
     ]
    }
   ],
   "source": [
    "a = 3.1415926\n",
    "print(f'a is {a}')\n",
    "print(f'a is {a:2.3f}')"
   ]
  },
  {
   "cell_type": "markdown",
   "metadata": {},
   "source": [
    "## Comments in Python\n",
    "\n",
    "Comments in Python usually start with a `#` sign, like the example below:"
   ]
  },
  {
   "cell_type": "code",
   "execution_count": 21,
   "metadata": {},
   "outputs": [
    {
     "name": "stdout",
     "output_type": "stream",
     "text": [
      "a is equal to 65.2\n"
     ]
    }
   ],
   "source": [
    "# This line is a comment, Python ignores this.\n",
    "a = 65.2\n",
    "print(f'a is equal to {a}')"
   ]
  },
  {
   "cell_type": "markdown",
   "metadata": {},
   "source": [
    "The comment will be ignored by the interpreter and not displayed in the output. It is useful for documenting code and noting the intended purpose of the program. "
   ]
  },
  {
   "cell_type": "markdown",
   "metadata": {},
   "source": [
    "## Bags of Data in Python\n",
    "\n",
    "Let’s assume that we want to save the x coordinates of a number of points.  \n",
    "How would you do it? Store each x coordinate in a separate variable?\n",
    "\n",
    "We can store a bunch of numbers or strings inside an *object*, which is like a bag:"
   ]
  },
  {
   "cell_type": "code",
   "execution_count": 22,
   "metadata": {},
   "outputs": [],
   "source": [
    "numbers = [2.5, 1, 2, -110, 2]\n",
    "names = ['Niagara', 'Rocky', 'Mercedes-Benz']\n",
    "names_nums= ['Niagara', 'Rocky', 3.14, 9]"
   ]
  },
  {
   "cell_type": "markdown",
   "metadata": {},
   "source": [
    "Each of the above “bags” of data is called a **List**. Lists are ordered collections of numbers, strings, etc. \n",
    "\n",
    "The `len()` function gives us the number of items in a list."
   ]
  },
  {
   "cell_type": "code",
   "execution_count": 23,
   "metadata": {},
   "outputs": [
    {
     "data": {
      "text/plain": [
       "5"
      ]
     },
     "execution_count": 23,
     "metadata": {},
     "output_type": "execute_result"
    }
   ],
   "source": [
    "len(numbers)"
   ]
  },
  {
   "cell_type": "markdown",
   "metadata": {},
   "source": [
    "## Indexing in Python"
   ]
  },
  {
   "cell_type": "markdown",
   "metadata": {},
   "source": [
    "So, how can we access different items in a list?\n",
    "\n",
    "Each item in a list has a unique **index** or simply a **number**, which shows the location of that item in the list."
   ]
  },
  {
   "cell_type": "code",
   "execution_count": 24,
   "metadata": {},
   "outputs": [
    {
     "data": {
      "text/plain": [
       "-110"
      ]
     },
     "execution_count": 24,
     "metadata": {},
     "output_type": "execute_result"
    }
   ],
   "source": [
    "numbers = [2.5, 1, 2, -110, 2]\n",
    "numbers[3]"
   ]
  },
  {
   "cell_type": "code",
   "execution_count": 25,
   "metadata": {},
   "outputs": [
    {
     "data": {
      "text/plain": [
       "2.5"
      ]
     },
     "execution_count": 25,
     "metadata": {},
     "output_type": "execute_result"
    }
   ],
   "source": [
    "numbers[0]"
   ]
  },
  {
   "cell_type": "markdown",
   "metadata": {},
   "source": [
    "> **Note**: As seen above, indices in Python start from **0**. This is important to remember when calling items from a list or array."
   ]
  },
  {
   "cell_type": "markdown",
   "metadata": {},
   "source": [
    "## Slicing Lists\n",
    "\n",
    "We can extract certain elements from a list by *slicing*\n",
    "\n",
    "Slicing follows the syntax `list_name[start:stop:step]`"
   ]
  },
  {
   "cell_type": "code",
   "execution_count": 26,
   "metadata": {},
   "outputs": [
    {
     "data": {
      "text/plain": [
       "[30, 50, 70]"
      ]
     },
     "execution_count": 26,
     "metadata": {},
     "output_type": "execute_result"
    }
   ],
   "source": [
    "#Play around with the values in the slice to see what the output is\n",
    "nums = [10, 20, 30, 40, 50, 60, 70, 80, 90]\n",
    "some_nums = nums[2:7:2]\n",
    "some_nums"
   ]
  },
  {
   "cell_type": "markdown",
   "metadata": {},
   "source": [
    "## Two Dimensional Lists"
   ]
  },
  {
   "cell_type": "markdown",
   "metadata": {},
   "source": [
    "Just as we can have lists of numbers or words, we can also define lists of other lists:"
   ]
  },
  {
   "cell_type": "code",
   "execution_count": 27,
   "metadata": {},
   "outputs": [
    {
     "data": {
      "text/plain": [
       "[[1, 1, 1, 1, 1, 1], [2, 2, 2, 2], [3, 3, 3, 3, 3]]"
      ]
     },
     "execution_count": 27,
     "metadata": {},
     "output_type": "execute_result"
    }
   ],
   "source": [
    "ones = [1, 1, 1, 1, 1, 1]\n",
    "twos = [2, 2, 2, 2]\n",
    "threes = [3, 3, 3, 3, 3]\n",
    "numbers = [ones, twos, threes]\n",
    "numbers"
   ]
  },
  {
   "cell_type": "markdown",
   "metadata": {},
   "source": [
    "Now, the **numbers** list is actually a **list of lists**, meaning that it contains three other lists.\n",
    "The sub-lists don’t necessarily have to be the same size as each other.\n",
    "\n",
    "To access items in each sub-list, we just need to use the indexing notation twice:"
   ]
  },
  {
   "cell_type": "code",
   "execution_count": 28,
   "metadata": {},
   "outputs": [
    {
     "data": {
      "text/plain": [
       "1"
      ]
     },
     "execution_count": 28,
     "metadata": {},
     "output_type": "execute_result"
    }
   ],
   "source": [
    "numbers[0][3]"
   ]
  },
  {
   "cell_type": "markdown",
   "metadata": {},
   "source": [
    "## Some List Methods\n",
    "\n",
    "<a id='Methods'></a>\n",
    "Let’s consider the list numbers = [2.5, 1, 2, -110, 2]\n",
    "- `numbers.append(object)`: Lets you add an item to the end of a list.\n",
    "- `numbers.sort()`: Sorts the items numerically and alphabetically (only if all items are either numeric or strings).\n",
    "- `numbers.reverse()`: Reverses the order of the list items.\n",
    "- `numbers.copy()`: Creates a copy of the list (Why does this method exist? hmmm...)\n",
    "- `numbers.insert(index, object)`: Lets you insert an object in a specific index in the list.\n",
    "- `numbers.count(object)`: Returns the number of objects in the list."
   ]
  },
  {
   "cell_type": "code",
   "execution_count": 29,
   "metadata": {},
   "outputs": [
    {
     "data": {
      "text/plain": [
       "[2.5, 1, 2, -110, 2, 3]"
      ]
     },
     "execution_count": 29,
     "metadata": {},
     "output_type": "execute_result"
    }
   ],
   "source": [
    "# Try some of the methods in this cell\n",
    "numbers = [2.5, 1, 2, -110, 2]\n",
    "numbers.append(3)\n",
    "numbers"
   ]
  },
  {
   "cell_type": "markdown",
   "metadata": {},
   "source": [
    "## Removing Items from a List\n",
    "\n",
    "How to remove an item from a list?"
   ]
  },
  {
   "cell_type": "code",
   "execution_count": 30,
   "metadata": {},
   "outputs": [
    {
     "name": "stdout",
     "output_type": "stream",
     "text": [
      "[2.5, 1, 2, 2]\n"
     ]
    }
   ],
   "source": [
    "numbers = [2.5, 1, 2, -110, 2]\n",
    "del(numbers[3])\n",
    "print(numbers)"
   ]
  },
  {
   "cell_type": "markdown",
   "metadata": {},
   "source": [
    "There are other item removal methods\n",
    "- `numbers.remove(object)`: Removes the first time it sees object.\n",
    "- `numbers.clear()`: Removes every item in the list. It is equivalent to `numbers = []`.\n",
    "- `numbers.pop()`: Removes the last item in a list."
   ]
  },
  {
   "cell_type": "code",
   "execution_count": 31,
   "metadata": {},
   "outputs": [
    {
     "name": "stdout",
     "output_type": "stream",
     "text": [
      "[2.5, 1, -110, 2]\n"
     ]
    }
   ],
   "source": [
    "# Try some of the methods here\n",
    "numbers = [2.5, 1, 2, -110, 2]\n",
    "numbers.remove(2)\n",
    "print(numbers)"
   ]
  },
  {
   "cell_type": "markdown",
   "metadata": {},
   "source": [
    "## List Concatenation\n",
    "\n",
    "How can we join two lists together?"
   ]
  },
  {
   "cell_type": "code",
   "execution_count": 32,
   "metadata": {},
   "outputs": [
    {
     "name": "stdout",
     "output_type": "stream",
     "text": [
      "[2.5, 1, 2, -110, 2, 'Niagara', 'Rocky']\n"
     ]
    }
   ],
   "source": [
    "numbers = [2.5, 1, 2, -110, 2]\n",
    "names = ['Niagara', 'Rocky']\n",
    "new_list= numbers + names\n",
    "print(new_list)"
   ]
  },
  {
   "cell_type": "markdown",
   "metadata": {},
   "source": [
    "Did you notice that we can use this method to add items to a list, just like the `numbers.append(object)` method?\n",
    "\n",
    "You have to be careful, though! The following will not work *(why?)*:"
   ]
  },
  {
   "cell_type": "code",
   "execution_count": 33,
   "metadata": {},
   "outputs": [
    {
     "ename": "TypeError",
     "evalue": "can only concatenate list (not \"str\") to list",
     "output_type": "error",
     "traceback": [
      "\u001b[1;31m---------------------------------------------------------------------------\u001b[0m",
      "\u001b[1;31mTypeError\u001b[0m                                 Traceback (most recent call last)",
      "\u001b[1;32m<ipython-input-33-238516c44331>\u001b[0m in \u001b[0;36m<module>\u001b[1;34m\u001b[0m\n\u001b[0;32m      1\u001b[0m \u001b[1;31m# This code should produce an error\u001b[0m\u001b[1;33m\u001b[0m\u001b[1;33m\u001b[0m\u001b[1;33m\u001b[0m\u001b[0m\n\u001b[1;32m----> 2\u001b[1;33m \u001b[0mnew_list\u001b[0m\u001b[1;33m=\u001b[0m \u001b[0mnumbers\u001b[0m \u001b[1;33m+\u001b[0m \u001b[1;34m'Niagara'\u001b[0m\u001b[1;33m\u001b[0m\u001b[1;33m\u001b[0m\u001b[0m\n\u001b[0m",
      "\u001b[1;31mTypeError\u001b[0m: can only concatenate list (not \"str\") to list"
     ]
    }
   ],
   "source": [
    "# This code should produce an error\n",
    "new_list= numbers + 'Niagara'"
   ]
  },
  {
   "cell_type": "markdown",
   "metadata": {},
   "source": [
    "> Hint: Look at the error statement to find out what went wrong\n",
    "\n",
    "The `*` operator can also be used with lists."
   ]
  },
  {
   "cell_type": "code",
   "execution_count": 34,
   "metadata": {},
   "outputs": [
    {
     "name": "stdout",
     "output_type": "stream",
     "text": [
      "[1, 2, 3, 1, 2, 3]\n"
     ]
    }
   ],
   "source": [
    "list = [1, 2, 3]\n",
    "list2 = 2*list\n",
    "print(list2)"
   ]
  },
  {
   "cell_type": "markdown",
   "metadata": {},
   "source": [
    "## Tuples\n",
    "\n",
    "Tuples in Python are collections objects, just like lists. To define tuples, instead of using `[]`, we should use `()`:"
   ]
  },
  {
   "cell_type": "code",
   "execution_count": 35,
   "metadata": {},
   "outputs": [],
   "source": [
    "a_tuple= (2.5, 1, 2, 'Niagara', 'Rocky')"
   ]
  },
  {
   "cell_type": "markdown",
   "metadata": {},
   "source": [
    "The main difference between a list and a tuple is that you can change the items in a list, remove items and change the order. This is not possible for tuples. In other words, lists are **mutable** and tuples are **immutable**:"
   ]
  },
  {
   "cell_type": "code",
   "execution_count": 36,
   "metadata": {},
   "outputs": [
    {
     "ename": "TypeError",
     "evalue": "'tuple' object doesn't support item deletion",
     "output_type": "error",
     "traceback": [
      "\u001b[1;31m---------------------------------------------------------------------------\u001b[0m",
      "\u001b[1;31mTypeError\u001b[0m                                 Traceback (most recent call last)",
      "\u001b[1;32m<ipython-input-36-fc64e1598474>\u001b[0m in \u001b[0;36m<module>\u001b[1;34m\u001b[0m\n\u001b[0;32m      1\u001b[0m \u001b[1;31m# This cell should produce an error\u001b[0m\u001b[1;33m\u001b[0m\u001b[1;33m\u001b[0m\u001b[1;33m\u001b[0m\u001b[0m\n\u001b[1;32m----> 2\u001b[1;33m \u001b[1;32mdel\u001b[0m \u001b[0ma_tuple\u001b[0m\u001b[1;33m[\u001b[0m\u001b[1;36m2\u001b[0m\u001b[1;33m]\u001b[0m\u001b[1;33m\u001b[0m\u001b[1;33m\u001b[0m\u001b[0m\n\u001b[0m",
      "\u001b[1;31mTypeError\u001b[0m: 'tuple' object doesn't support item deletion"
     ]
    }
   ],
   "source": [
    "# This cell should produce an error\n",
    "del a_tuple[2]"
   ]
  },
  {
   "cell_type": "markdown",
   "metadata": {},
   "source": [
    "Since tuples cannot be changed, it is faster for Python to go through its items. Also, they occupy less memory.\n",
    "Tuples have only two methods for them: `a_tuple.count()` and `a_tuple.index()`."
   ]
  },
  {
   "cell_type": "markdown",
   "metadata": {},
   "source": [
    "## Dictionaries\n",
    "\n",
    "Dictionaries in Python are collections which are unordered, changeable and indexed. Dictionaries are written with curly brackets `{ }`, and they have keys and values."
   ]
  },
  {
   "cell_type": "code",
   "execution_count": 37,
   "metadata": {},
   "outputs": [
    {
     "name": "stdout",
     "output_type": "stream",
     "text": [
      "{'school': 'UBC', 'faculty': 'APSC', 'department': 'CHBE', 'grad year': 2022}\n"
     ]
    }
   ],
   "source": [
    "# Defining a dictionary\n",
    "my_dictionary =\t{\n",
    "  \"school\": \"UBC\",\n",
    "  \"faculty\": \"APSC\",\n",
    "  \"department\": \"CHBE\",\n",
    "  \"grad year\": 2022\n",
    "}\n",
    "print(my_dictionary)"
   ]
  },
  {
   "cell_type": "markdown",
   "metadata": {},
   "source": [
    "In the example above, \"school\" is a key and \"UBC\" is a value.\n",
    "\n",
    "To access a value from a dictionary, call its key in square brackets."
   ]
  },
  {
   "cell_type": "code",
   "execution_count": 38,
   "metadata": {},
   "outputs": [
    {
     "name": "stdout",
     "output_type": "stream",
     "text": [
      "CHBE\n"
     ]
    }
   ],
   "source": [
    "# Accessing items from a dictionary\n",
    "x = my_dictionary[\"department\"]\n",
    "print(x)"
   ]
  },
  {
   "attachments": {
    "image.png": {
     "image/png": "[encoded data removed]"
    }
   },
   "cell_type": "markdown",
   "metadata": {},
   "source": [
    "## Packages and Modules\n",
    "\n",
    "We have seen functions such as `print()`, `type()` or `len()` so far. These are called Python’s built-in functions.\n",
    "\n",
    "Python has many other functions that are not loaded by default. Also, there are a lot of external libraries we may want to use.\n",
    "\n",
    "In order to use other functions, we have to import them in our code\n",
    "\n",
    "<img src=\"attachment:image.png\" alt=\"Drawing\" style=\"width: 600px;\"/>"
   ]
  },
  {
   "cell_type": "markdown",
   "metadata": {},
   "source": [
    "The `import` command can take the following forms:\n",
    "- `import package.subpackage1.module2[]`\n",
    "> This imports `package.subpackage1.function1()`\n",
    "- `from package.subpackage1.module2 import function1`\n",
    "- `from package.subpackage1.module2 import *`\n",
    "> The two above each import `function1`\n",
    "\n",
    "Also, we can create a nickname for an imported package, module or function:\n",
    "- `import package.subpackage1.module2 as mod2`\n",
    "> This imports `mod2.function1()`"
   ]
  },
  {
   "cell_type": "markdown",
   "metadata": {},
   "source": [
    "## The Numpy Package\n",
    "\n",
    "> We can import the Numpy package with the following line: `import numpy as np` \n",
    "\n",
    "- The Numpy (or Numeric Python) package is the most important Python library for scientific computing.\n",
    "- It provides the powerful **array** object, and a vast collection of mathematical tools to work with arrays (linear algebra, basic statistics, etc.)\n",
    "- An array is basically a (multi-dimensional) grid of data of the same type.\n",
    "- Most of the higher level packages (e.g. Pandas, Scikit-learn, Scipy, etc.) are built on top of Numpy.\n",
    "\n",
    "You remember Python is much slower compared to C++/Fortran... So, how do we deal with that?"
   ]
  },
  {
   "cell_type": "markdown",
   "metadata": {},
   "source": [
    "Why not use lists instead?\n",
    "\n",
    "**ndarray** in Numpy supports vectorized operations:"
   ]
  },
  {
   "cell_type": "code",
   "execution_count": 39,
   "metadata": {},
   "outputs": [
    {
     "ename": "TypeError",
     "evalue": "can only concatenate list (not \"int\") to list",
     "output_type": "error",
     "traceback": [
      "\u001b[1;31m---------------------------------------------------------------------------\u001b[0m",
      "\u001b[1;31mTypeError\u001b[0m                                 Traceback (most recent call last)",
      "\u001b[1;32m<ipython-input-39-6a4c84c6a14a>\u001b[0m in \u001b[0;36m<module>\u001b[1;34m\u001b[0m\n\u001b[0;32m      1\u001b[0m \u001b[1;31m# This cell should produce an error\u001b[0m\u001b[1;33m\u001b[0m\u001b[1;33m\u001b[0m\u001b[1;33m\u001b[0m\u001b[0m\n\u001b[0;32m      2\u001b[0m \u001b[0mmy_list\u001b[0m\u001b[1;33m=\u001b[0m \u001b[1;33m[\u001b[0m\u001b[1;36m2.5\u001b[0m\u001b[1;33m,\u001b[0m \u001b[1;36m1\u001b[0m\u001b[1;33m,\u001b[0m \u001b[1;36m2\u001b[0m\u001b[1;33m,\u001b[0m \u001b[1;33m-\u001b[0m\u001b[1;36m110\u001b[0m\u001b[1;33m,\u001b[0m \u001b[1;36m2\u001b[0m\u001b[1;33m]\u001b[0m\u001b[1;33m\u001b[0m\u001b[1;33m\u001b[0m\u001b[0m\n\u001b[1;32m----> 3\u001b[1;33m \u001b[0mmy_list\u001b[0m \u001b[1;33m+\u001b[0m \u001b[1;36m25\u001b[0m\u001b[1;33m\u001b[0m\u001b[1;33m\u001b[0m\u001b[0m\n\u001b[0m",
      "\u001b[1;31mTypeError\u001b[0m: can only concatenate list (not \"int\") to list"
     ]
    }
   ],
   "source": [
    "# This cell should produce an error\n",
    "my_list= [2.5, 1, 2, -110, 2]\n",
    "my_list + 25"
   ]
  },
  {
   "cell_type": "code",
   "execution_count": 40,
   "metadata": {},
   "outputs": [
    {
     "data": {
      "text/plain": [
       "array([ 27.5,  26. ,  27. , -85. ,  27. ])"
      ]
     },
     "execution_count": 40,
     "metadata": {},
     "output_type": "execute_result"
    }
   ],
   "source": [
    "import numpy as np\n",
    "my_array= np.array([2.5, 1, 2, -110, 2])\n",
    "my_array+ 25"
   ]
  },
  {
   "cell_type": "markdown",
   "metadata": {},
   "source": [
    "**ndarray** has consistent dimensions. You cannot have an array with columns or rows of different sizes.\n",
    "\n",
    "**ndarray** (most often) has consistent data-type, whereas you can store data of different types in a list.\n",
    "\n",
    "An array object occupies much less space in memory compared to a list."
   ]
  },
  {
   "cell_type": "markdown",
   "metadata": {},
   "source": [
    "## Basics of Numpy Arrays\n",
    "\n",
    "Creating a one dimensional array (i.e., a vector) with custom values:\n",
    "> Don't forget to import numpy if you haven't already"
   ]
  },
  {
   "cell_type": "code",
   "execution_count": 41,
   "metadata": {},
   "outputs": [
    {
     "data": {
      "text/plain": [
       "array([   2.5,    1. ,    2. , -110. ,    2. ])"
      ]
     },
     "execution_count": 41,
     "metadata": {},
     "output_type": "execute_result"
    }
   ],
   "source": [
    "#import numpy as np\n",
    "array_1d = np.array([2.5, 1, 2, -110, 2])\n",
    "array_1d"
   ]
  },
  {
   "cell_type": "markdown",
   "metadata": {},
   "source": [
    "Creating a two dimensional array (i.e., a matrix) with custom values:"
   ]
  },
  {
   "cell_type": "code",
   "execution_count": 42,
   "metadata": {},
   "outputs": [
    {
     "data": {
      "text/plain": [
       "array([[   2.5,    1. ,    2. , -110. ,    2. ],\n",
       "       [   0. ,    1. ,    0. ,    1. ,    1. ]])"
      ]
     },
     "execution_count": 42,
     "metadata": {},
     "output_type": "execute_result"
    }
   ],
   "source": [
    "array_2d = np.array([[2.5, 1, 2, -110, 2],[0, 1, 0, 1, 1]])\n",
    "array_2d"
   ]
  },
  {
   "cell_type": "markdown",
   "metadata": {},
   "source": [
    "Size and shape of an array:"
   ]
  },
  {
   "cell_type": "code",
   "execution_count": 43,
   "metadata": {},
   "outputs": [
    {
     "data": {
      "text/plain": [
       "5"
      ]
     },
     "execution_count": 43,
     "metadata": {},
     "output_type": "execute_result"
    }
   ],
   "source": [
    "array_1d.size"
   ]
  },
  {
   "cell_type": "code",
   "execution_count": 44,
   "metadata": {},
   "outputs": [
    {
     "data": {
      "text/plain": [
       "(5,)"
      ]
     },
     "execution_count": 44,
     "metadata": {},
     "output_type": "execute_result"
    }
   ],
   "source": [
    "array_1d.shape"
   ]
  },
  {
   "cell_type": "code",
   "execution_count": 45,
   "metadata": {},
   "outputs": [
    {
     "data": {
      "text/plain": [
       "10"
      ]
     },
     "execution_count": 45,
     "metadata": {},
     "output_type": "execute_result"
    }
   ],
   "source": [
    "array_2d.size"
   ]
  },
  {
   "cell_type": "code",
   "execution_count": 46,
   "metadata": {},
   "outputs": [
    {
     "data": {
      "text/plain": [
       "(2, 5)"
      ]
     },
     "execution_count": 46,
     "metadata": {},
     "output_type": "execute_result"
    }
   ],
   "source": [
    "array_2d.shape"
   ]
  },
  {
   "cell_type": "markdown",
   "metadata": {},
   "source": [
    "## Array Indexing and Slicing\n",
    "\n",
    "**Array indexing** is similar to list indexing.  \n",
    "A visual guide to *how* this data is stored can be found [here](http://jalammar.github.io/visual-numpy/) to help you better understand single and multi-dimensional arrays.\n",
    "\n",
    "When we have more than one dimension, the preferred way is to use a single pair of `[ ]`, instead of `[][]` or more in lists:"
   ]
  },
  {
   "cell_type": "code",
   "execution_count": 47,
   "metadata": {},
   "outputs": [
    {
     "data": {
      "text/plain": [
       "-110.0"
      ]
     },
     "execution_count": 47,
     "metadata": {},
     "output_type": "execute_result"
    }
   ],
   "source": [
    "# Preferred method\n",
    "array_2d[0, 3]"
   ]
  },
  {
   "cell_type": "code",
   "execution_count": 48,
   "metadata": {},
   "outputs": [
    {
     "data": {
      "text/plain": [
       "-110.0"
      ]
     },
     "execution_count": 48,
     "metadata": {},
     "output_type": "execute_result"
    }
   ],
   "source": [
    "array_2d[0][3]"
   ]
  },
  {
   "cell_type": "markdown",
   "metadata": {},
   "source": [
    "Slicing arrays is also done in the same way:"
   ]
  },
  {
   "cell_type": "code",
   "execution_count": 49,
   "metadata": {},
   "outputs": [
    {
     "data": {
      "text/plain": [
       "array([   2., -110.])"
      ]
     },
     "execution_count": 49,
     "metadata": {},
     "output_type": "execute_result"
    }
   ],
   "source": [
    "array_2d[0, 2:4]"
   ]
  },
  {
   "cell_type": "markdown",
   "metadata": {},
   "source": [
    "## Functions for Creating Arrays\n",
    "\n",
    "It’s neither easy nor efficient (and even impossible!) to create arrays manually. Numpy has many built-in functions for array generation.\n",
    "- The two Numpy functions `np.arange(start, stop, step)` and `np.linspace(start, stop, numbers)` are used to create arrays with either a specified **step size** or a specified **number of values**.\n",
    "- `np.zeros((N, M))` and `np.ones((N, M))` create arrays with shape *(N, M)* filled with zeros or ones.\n",
    "- `np.eye(N)` creates the identity matrix of size *N*.\n",
    "- `np.random.rand(N, M)` creates an array of shape *(N, M)* filled with random **real** numbers between 0 and 1.\n",
    "- `np.random.randint(a, b, size=[N,M])` creates an array of shape *(N, M)* filled with random **integer** numbers between any *a* and *b*.\n",
    "\n",
    "There are also similar functions to generate random numbers with a certain probability distribution!\n",
    "\n",
    "> **Exercise:** Create the array [0, 10, 20, 30, ... 100] using one of the methods described above."
   ]
  },
  {
   "cell_type": "code",
   "execution_count": 53,
   "metadata": {},
   "outputs": [],
   "source": [
    "# Ensure numpy has been imported"
   ]
  },
  {
   "cell_type": "markdown",
   "metadata": {},
   "source": [
    "## Basic Array Statistics\n",
    "\n",
    "- `np.mean(array, axis=None)` computes the mean of all values in an array, or along a particular *axis*.\n",
    "- `np.median(array, axis=None)` computes the median of all values in an array, or along a particular *axis*.\n",
    "- `np.std(array, axis=None)` computes the standard deviation (a measure of the scatter in data) of all values in an array, or along a particular *axis*.\n",
    "- `np.max(array, axis=None)` or `np.min(array, axis=None)` computes the min/max of all values in an array, or along a particular *axis*.\n",
    "- We can also compute these values with **array methods** as `array_2d.mean()`, `array_2d.max()`, `array_2d.min()` and `array_2d.std()`."
   ]
  },
  {
   "cell_type": "markdown",
   "metadata": {},
   "source": [
    "## Reshaping Arrays\n",
    "\n",
    "Array elements are stored **sequentially** in memory. The shape of an array is just a way that it is viewed.\n",
    "\n",
    "The reshape function provides a way to give a new shape to an array:\n",
    "`numpy.reshape(array, newshape)`\n",
    "\n",
    "We can also use the reshape method directly on an array: `array.reshape(newshape)`\n",
    "\n",
    "Again, you can find a visual guide to how data is stored [here](http://jalammar.github.io/visual-numpy/) to help you understand the different array shapes. \n"
   ]
  },
  {
   "cell_type": "code",
   "execution_count": 51,
   "metadata": {},
   "outputs": [],
   "source": [
    "# Try rearranging the following 2D array\n",
    "array = np.array([[1,1,1,1],[2,2,2,2],[3,3,3,3]])"
   ]
  },
  {
   "cell_type": "markdown",
   "metadata": {},
   "source": [
    "## Combining Arrays\n",
    "\n",
    "- `np.concatenate((array1, array2), axis=0)`\n",
    "- `np.hstack((array1, array2))`\n",
    "- `np.vstack((array1, array2))`\n",
    "\n",
    "<p style=\"text-align:center;\">\n",
    "<img src=\"Images/crash_course_2.png\" width=600>\n",
    "</p>"
   ]
  },
  {
   "cell_type": "code",
   "execution_count": 52,
   "metadata": {},
   "outputs": [
    {
     "data": {
      "text/plain": [
       "array([3, 4, 5, 6, 7, 8])"
      ]
     },
     "execution_count": 52,
     "metadata": {},
     "output_type": "execute_result"
    }
   ],
   "source": [
    "# Try combining the following two arrays using different functions\n",
    "array1 = np.array([3,4,5])\n",
    "array2 = np.array([6,7,8])\n",
    "\n",
    "np.hstack((array1,array2))"
   ]
  },
  {
   "cell_type": "markdown",
   "metadata": {},
   "source": [
    "## More on Numpy\n",
    "\n",
    "Numpy provides the **vectorized** version of most math functions such as `np.sin()`, `np.cos()`, `np.tan()`, `np.exp()`, `np.log()`, `np.sqrt()` and many others. Vectorized functions operate directly on each element of an array. These are called **element-wise** operations.\n",
    "\n",
    "With Numpy arrays, operations such as `+`, `-`, `*`, `/ `and `**` are all **element-wise** operations by default.\n",
    "\n",
    "Slicing in numpy only returns a view of the original array. In order to explicitly copy an array, we have to use `array2 = array1.copy()`.\n",
    "\n",
    "To delete elements, rows or columns we can use `np.delete(arr, index, axis=None)`.\n",
    "\n",
    "To add elements to an array, we can use `numpy.append(arr, values, axis=None)` to add to the end of an array or `numpy.insert(arr, index, values, axis=None)`."
   ]
  },
  {
   "cell_type": "markdown",
   "metadata": {},
   "source": [
    "## Summary\n",
    "\n",
    "Today, we have started to use **IPython** and **JupyterLab** to write our programs. We have learned a number of core concepts such as variables and how to work with them in Python. Many of the concepts you’ve learned today, such as variables and their different types, math operations and many other that you will learn in the coming sessions, are **common** between most programming languages. The differences are usually about syntax, and some other subtle things here and there that we talk about. There are also some other concepts that are exclusive to Python."
   ]
  },
  {
   "cell_type": "markdown",
   "metadata": {},
   "source": [
    "## References\n",
    "1. https://railsware.com/blog/python-for-machine-learning-indexing-and-slicing-for-lists-tuples-strings-and-other-sequential-types\n",
    "2. https://www.datacamp.com/community/tutorials/python-numpy-tutorial\n",
    "3. https://www.guru99.com/numpy-tutorial.html\n",
    "4. https://medium.com/datadriveninvestor/artificial-intelligence-series-part-2-numpy-walkthrough-64461f26af4f\n",
    "5. https://backtobazics.com/python/python-reshaping-numpy-array-examples/attachment/numpy-reshape-examples/\n",
    "6. https://www.w3resource.com/numpy/"
   ]
  }
 ],
 "metadata": {
  "kernelspec": {
   "display_name": "Python 3",
   "language": "python",
   "name": "python3"
  },
  "language_info": {
   "codemirror_mode": {
    "name": "ipython",
    "version": 3
   },
   "file_extension": ".py",
   "mimetype": "text/x-python",
   "name": "python",
   "nbconvert_exporter": "python",
   "pygments_lexer": "ipython3",
   "version": "3.7.8"
  }
 },
 "nbformat": 4,
 "nbformat_minor": 4
}
